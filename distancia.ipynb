{
 "cells": [
  {
   "cell_type": "markdown",
   "metadata": {},
   "source": [
    "https://www.youtube.com/watch?v=xACy8l3LsXI"
   ]
  },
  {
   "cell_type": "code",
   "execution_count": null,
   "metadata": {
    "collapsed": false
   },
   "outputs": [],
   "source": [
    "import RPi.GPIO as GPIO\n",
    "import time\n",
    "\n",
    "GPIO.setmode(GPIO.BOARD)\n",
    "\n",
    "trig=7\n",
    "echo=12\n",
    "\n",
    "GPIO.setup(trig,GPIO.OUT)\n",
    "GPIO.output(trig,0)\n",
    "\n",
    "GPIO.setup(echo,GPIO.IN)\n",
    "\n",
    "time.sleep(0.1)\n",
    "\n",
    "print\"Starting measurent...\"\n",
    "\n",
    "GPIO.output(trig,1)\n",
    "time.sleep(0.00001)\n",
    "GPIO.output(trig,0)\n",
    "\n",
    "while GPIO.input(echo) ==0:\n",
    "    pass\n",
    "start=time.time()\n",
    "\n",
    "while GPIO.input(echo) == 1:\n",
    "    pass\n",
    "stop=time.time()\n",
    "\n",
    "print(stop-start) * 17000\n",
    "\n",
    "GPIO.cleanup()\n",
    "\n",
    "\n"
   ]
  },
  {
   "cell_type": "code",
   "execution_count": 2,
   "metadata": {
    "collapsed": false
   },
   "outputs": [
    {
     "ename": "NameError",
     "evalue": "name 'GPIO' is not defined",
     "output_type": "error",
     "traceback": [
      "\u001b[1;31m---------------------------------------------------------------------------\u001b[0m",
      "\u001b[1;31mNameError\u001b[0m                                 Traceback (most recent call last)",
      "\u001b[1;32m<ipython-input-2-f62d7b9e4fe8>\u001b[0m in \u001b[0;36m<module>\u001b[1;34m()\u001b[0m\n\u001b[1;32m----> 1\u001b[1;33m \u001b[0mGPIO\u001b[0m\u001b[1;33m.\u001b[0m\u001b[0mcleanup\u001b[0m\u001b[1;33m(\u001b[0m\u001b[1;33m)\u001b[0m\u001b[1;33m\u001b[0m\u001b[0m\n\u001b[0m",
      "\u001b[1;31mNameError\u001b[0m: name 'GPIO' is not defined"
     ]
    }
   ],
   "source": [
    "GPIO.cleanup()"
   ]
  },
  {
   "cell_type": "code",
   "execution_count": 1,
   "metadata": {
    "collapsed": false
   },
   "outputs": [
    {
     "data": {
      "text/plain": [
       "2"
      ]
     },
     "execution_count": 1,
     "metadata": {},
     "output_type": "execute_result"
    }
   ],
   "source": [
    "1+1"
   ]
  },
  {
   "cell_type": "code",
   "execution_count": 2,
   "metadata": {
    "collapsed": false
   },
   "outputs": [
    {
     "name": "stdout",
     "output_type": "stream",
     "text": [
      "[master 9b93c41] Movement sensor\n",
      " 1 file changed, 130 insertions(+)\n",
      " create mode 100644 distancia.ipynb\n"
     ]
    },
    {
     "name": "stderr",
     "output_type": "stream",
     "text": [
      "To git@github.com:simonres/GPIO.git\n",
      "   f7de42f..9b93c41  master -> master\n"
     ]
    }
   ],
   "source": [
    "%%bash\n",
    "git add distancia.ipynb\n",
    "git commit -am \"Movement sensor\"\n",
    "git push origin master"
   ]
  },
  {
   "cell_type": "code",
   "execution_count": null,
   "metadata": {
    "collapsed": true
   },
   "outputs": [],
   "source": []
  }
 ],
 "metadata": {
  "kernelspec": {
   "display_name": "Python 2",
   "language": "python",
   "name": "python2"
  },
  "language_info": {
   "codemirror_mode": {
    "name": "ipython",
    "version": 2
   },
   "file_extension": ".py",
   "mimetype": "text/x-python",
   "name": "python",
   "nbconvert_exporter": "python",
   "pygments_lexer": "ipython2",
   "version": "2.7.3"
  }
 },
 "nbformat": 4,
 "nbformat_minor": 0
}
