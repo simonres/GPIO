{
 "cells": [
  {
   "cell_type": "markdown",
   "metadata": {},
   "source": [
    "https://www.youtube.com/watch?v=xACy8l3LsXI"
   ]
  },
  {
   "cell_type": "code",
   "execution_count": 1,
   "metadata": {
    "collapsed": false
   },
   "outputs": [
    {
     "name": "stdout",
     "output_type": "stream",
     "text": [
      "Writing distancia.py\n"
     ]
    }
   ],
   "source": [
    "%%writefile distancia.py\n",
    "import RPi.GPIO as GPIO\n",
    "import time\n",
    "\n",
    "GPIO.setmode(GPIO.BOARD)\n",
    "\n",
    "trig=7\n",
    "echo=12\n",
    "\n",
    "GPIO.setup(trig,GPIO.OUT)\n",
    "GPIO.output(trig,0)\n",
    "\n",
    "GPIO.setup(echo,GPIO.IN)\n",
    "\n",
    "time.sleep(0.1)\n",
    "\n",
    "print\"Starting measurent...\"\n",
    "\n",
    "GPIO.output(trig,1)\n",
    "time.sleep(0.00001)\n",
    "GPIO.output(trig,0)\n",
    "\n",
    "while GPIO.input(echo) ==0:\n",
    "    pass\n",
    "start=time.time()\n",
    "\n",
    "while GPIO.input(echo) == 1:\n",
    "    pass\n",
    "stop=time.time()\n",
    "\n",
    "print(stop-start) * 17000\n",
    "\n",
    "GPIO.cleanup()\n",
    "\n",
    "\n"
   ]
  },
  {
   "cell_type": "code",
   "execution_count": 5,
   "metadata": {
    "collapsed": false
   },
   "outputs": [
    {
     "name": "stdout",
     "output_type": "stream",
     "text": [
      "Overwriting distancia2.py\n"
     ]
    }
   ],
   "source": [
    "%%writefile distancia2.py\n",
    "# -*- coding: UTF-8 -*-\n",
    "import RPi.GPIO as GPIO    #Importamos la libreria GPIO\n",
    "import time                #Importamos time (time.sleep)\n",
    "GPIO.setmode(GPIO.BCM)     #Ponemos la placa en modo BCM\n",
    "GPIO_TRIGGER = 7           #Usamos el pin GPIO 25 como TRIGGER\n",
    "GPIO_ECHO    = 12          #Usamos el pin GPIO 7 como ECHO\n",
    "GPIO.setup(GPIO_TRIGGER,GPIO.OUT)  #Configuramos Trigger como salida\n",
    "GPIO.setup(GPIO_ECHO,GPIO.IN)      #Configuramos Echo como entrada\n",
    "GPIO.output(GPIO_TRIGGER,False)    #Ponemos el pin 7 como LOW\n",
    " \n",
    " \n",
    "try:\n",
    "    while True:     #Iniciamos un loop infinito\n",
    "        GPIO.output(GPIO_TRIGGER,True)   #Enviamos un pulso de ultrasonidos\n",
    "        time.sleep(0.00001)              #Una pequenya pausa\n",
    "        GPIO.output(GPIO_TRIGGER,False)  #Apagamos el pulso\n",
    "        start = time.time()              #Guarda el tiempo actual mediante time.time()\n",
    "        while GPIO.input(GPIO_ECHO)==0:  #Mientras el sensor no reciba senyal...\n",
    "            start = time.time()          #Mantenemos el tiempo actual mediante time.time()\n",
    "        while GPIO.input(GPIO_ECHO)==1:  #Si el sensor recibe senyal...\n",
    "            stop = time.time()           #Guarda el tiempo actual mediante time.time() en otra variable\n",
    "        elapsed = stop-start             #Obtenemos el tiempo transcurrido entre envio y recepcion\n",
    "        distance = (elapsed * 34300)/2   #Distancia es igual a tiempo por velocidad partido por 2   D = (T x V)/2\n",
    "        print distance                   #Devolvemos la distancia (en centimetros) por pantalla\n",
    "        time.sleep(1)                    #Pequeña pausa para no saturar el procesador de la Raspberry\n",
    "except KeyboardInterrupt:                #Si el usuario pulsa CONTROL+C...\n",
    "    print \"quit\"                         #Avisamos del cierre al usuario\n",
    "    GPIO.cleanup()"
   ]
  },
  {
   "cell_type": "code",
   "execution_count": 1,
   "metadata": {
    "collapsed": false
   },
   "outputs": [
    {
     "data": {
      "text/plain": [
       "2"
      ]
     },
     "execution_count": 1,
     "metadata": {},
     "output_type": "execute_result"
    }
   ],
   "source": [
    "1+1"
   ]
  },
  {
   "cell_type": "code",
   "execution_count": 2,
   "metadata": {
    "collapsed": false
   },
   "outputs": [
    {
     "name": "stdout",
     "output_type": "stream",
     "text": [
      "[master 9b93c41] Movement sensor\n",
      " 1 file changed, 130 insertions(+)\n",
      " create mode 100644 distancia.ipynb\n"
     ]
    },
    {
     "name": "stderr",
     "output_type": "stream",
     "text": [
      "To git@github.com:simonres/GPIO.git\n",
      "   f7de42f..9b93c41  master -> master\n"
     ]
    }
   ],
   "source": [
    "%%bash\n",
    "git add distancia.ipynb\n",
    "git commit -am \"Movement sensor\"\n",
    "git push origin master"
   ]
  },
  {
   "cell_type": "code",
   "execution_count": null,
   "metadata": {
    "collapsed": true
   },
   "outputs": [],
   "source": []
  }
 ],
 "metadata": {
  "kernelspec": {
   "display_name": "Python 2",
   "language": "python",
   "name": "python2"
  },
  "language_info": {
   "codemirror_mode": {
    "name": "ipython",
    "version": 2
   },
   "file_extension": ".py",
   "mimetype": "text/x-python",
   "name": "python",
   "nbconvert_exporter": "python",
   "pygments_lexer": "ipython2",
   "version": "2.7.3"
  }
 },
 "nbformat": 4,
 "nbformat_minor": 0
}
